{
  "nbformat": 4,
  "nbformat_minor": 0,
  "metadata": {
    "colab": {
      "name": "Digits_Classification.ipynb",
      "provenance": [],
      "authorship_tag": "ABX9TyOzSn39m37phkHQox5brJlb",
      "include_colab_link": true
    },
    "kernelspec": {
      "name": "python3",
      "display_name": "Python 3"
    },
    "language_info": {
      "name": "python"
    }
  },
  "cells": [
    {
      "cell_type": "markdown",
      "metadata": {
        "id": "view-in-github",
        "colab_type": "text"
      },
      "source": [
        "<a href=\"https://colab.research.google.com/github/fzkhouy/Digits_Classification/blob/main/Digits_Classification.ipynb\" target=\"_parent\"><img src=\"https://colab.research.google.com/assets/colab-badge.svg\" alt=\"Open In Colab\"/></a>"
      ]
    },
    {
      "cell_type": "markdown",
      "metadata": {
        "id": "vrfgvr5iYoBw"
      },
      "source": [
        "# **Classification des digits avec KNN, validation croisee , Grid search**\n",
        "\n"
      ]
    },
    {
      "cell_type": "markdown",
      "metadata": {
        "id": "3zMXJ6YyZPoU"
      },
      "source": [
        "**charger la base de donnees MNIST**"
      ]
    },
    {
      "cell_type": "code",
      "metadata": {
        "id": "e-XlsoXRYjsB"
      },
      "source": [
        "from sklearn import datasets\n",
        "#load the MNIST digits datasets \n",
        "mnist = datasets.load_digits()"
      ],
      "execution_count": null,
      "outputs": []
    },
    {
      "cell_type": "markdown",
      "metadata": {
        "id": "ikDlJxqCZiCc"
      },
      "source": [
        "**selection et separation des donnees**\n",
        "\n"
      ]
    },
    {
      "cell_type": "code",
      "metadata": {
        "colab": {
          "base_uri": "https://localhost:8080/"
        },
        "id": "3zNzwVnnZj_t",
        "outputId": "7d7dfd1d-f48c-4f55-ff6f-9d8d2f62ac01"
      },
      "source": [
        "mnist.data.shape"
      ],
      "execution_count": null,
      "outputs": [
        {
          "output_type": "execute_result",
          "data": {
            "text/plain": [
              "(1797, 64)"
            ]
          },
          "metadata": {},
          "execution_count": 16
        }
      ]
    },
    {
      "cell_type": "markdown",
      "metadata": {
        "id": "wQ6nyXOth1wn"
      },
      "source": [
        "Nombre d'image : 1797\n",
        "\n",
        "taille de chaque image : 64"
      ]
    },
    {
      "cell_type": "code",
      "metadata": {
        "colab": {
          "base_uri": "https://localhost:8080/"
        },
        "id": "beLVX1qYa0Fc",
        "outputId": "23d2f240-29f6-4e69-c758-30d01286ba4d"
      },
      "source": [
        "print(mnist)"
      ],
      "execution_count": null,
      "outputs": [
        {
          "output_type": "stream",
          "name": "stdout",
          "text": [
            "{'data': array([[ 0.,  0.,  5., ...,  0.,  0.,  0.],\n",
            "       [ 0.,  0.,  0., ..., 10.,  0.,  0.],\n",
            "       [ 0.,  0.,  0., ..., 16.,  9.,  0.],\n",
            "       ...,\n",
            "       [ 0.,  0.,  1., ...,  6.,  0.,  0.],\n",
            "       [ 0.,  0.,  2., ..., 12.,  0.,  0.],\n",
            "       [ 0.,  0., 10., ..., 12.,  1.,  0.]]), 'target': array([0, 1, 2, ..., 8, 9, 8]), 'target_names': array([0, 1, 2, 3, 4, 5, 6, 7, 8, 9]), 'images': array([[[ 0.,  0.,  5., ...,  1.,  0.,  0.],\n",
            "        [ 0.,  0., 13., ..., 15.,  5.,  0.],\n",
            "        [ 0.,  3., 15., ..., 11.,  8.,  0.],\n",
            "        ...,\n",
            "        [ 0.,  4., 11., ..., 12.,  7.,  0.],\n",
            "        [ 0.,  2., 14., ..., 12.,  0.,  0.],\n",
            "        [ 0.,  0.,  6., ...,  0.,  0.,  0.]],\n",
            "\n",
            "       [[ 0.,  0.,  0., ...,  5.,  0.,  0.],\n",
            "        [ 0.,  0.,  0., ...,  9.,  0.,  0.],\n",
            "        [ 0.,  0.,  3., ...,  6.,  0.,  0.],\n",
            "        ...,\n",
            "        [ 0.,  0.,  1., ...,  6.,  0.,  0.],\n",
            "        [ 0.,  0.,  1., ...,  6.,  0.,  0.],\n",
            "        [ 0.,  0.,  0., ..., 10.,  0.,  0.]],\n",
            "\n",
            "       [[ 0.,  0.,  0., ..., 12.,  0.,  0.],\n",
            "        [ 0.,  0.,  3., ..., 14.,  0.,  0.],\n",
            "        [ 0.,  0.,  8., ..., 16.,  0.,  0.],\n",
            "        ...,\n",
            "        [ 0.,  9., 16., ...,  0.,  0.,  0.],\n",
            "        [ 0.,  3., 13., ..., 11.,  5.,  0.],\n",
            "        [ 0.,  0.,  0., ..., 16.,  9.,  0.]],\n",
            "\n",
            "       ...,\n",
            "\n",
            "       [[ 0.,  0.,  1., ...,  1.,  0.,  0.],\n",
            "        [ 0.,  0., 13., ...,  2.,  1.,  0.],\n",
            "        [ 0.,  0., 16., ..., 16.,  5.,  0.],\n",
            "        ...,\n",
            "        [ 0.,  0., 16., ..., 15.,  0.,  0.],\n",
            "        [ 0.,  0., 15., ..., 16.,  0.,  0.],\n",
            "        [ 0.,  0.,  2., ...,  6.,  0.,  0.]],\n",
            "\n",
            "       [[ 0.,  0.,  2., ...,  0.,  0.,  0.],\n",
            "        [ 0.,  0., 14., ..., 15.,  1.,  0.],\n",
            "        [ 0.,  4., 16., ..., 16.,  7.,  0.],\n",
            "        ...,\n",
            "        [ 0.,  0.,  0., ..., 16.,  2.,  0.],\n",
            "        [ 0.,  0.,  4., ..., 16.,  2.,  0.],\n",
            "        [ 0.,  0.,  5., ..., 12.,  0.,  0.]],\n",
            "\n",
            "       [[ 0.,  0., 10., ...,  1.,  0.,  0.],\n",
            "        [ 0.,  2., 16., ...,  1.,  0.,  0.],\n",
            "        [ 0.,  0., 15., ..., 15.,  0.,  0.],\n",
            "        ...,\n",
            "        [ 0.,  4., 16., ..., 16.,  6.,  0.],\n",
            "        [ 0.,  8., 16., ..., 16.,  8.,  0.],\n",
            "        [ 0.,  1.,  8., ..., 12.,  1.,  0.]]]), 'DESCR': \".. _digits_dataset:\\n\\nOptical recognition of handwritten digits dataset\\n--------------------------------------------------\\n\\n**Data Set Characteristics:**\\n\\n    :Number of Instances: 5620\\n    :Number of Attributes: 64\\n    :Attribute Information: 8x8 image of integer pixels in the range 0..16.\\n    :Missing Attribute Values: None\\n    :Creator: E. Alpaydin (alpaydin '@' boun.edu.tr)\\n    :Date: July; 1998\\n\\nThis is a copy of the test set of the UCI ML hand-written digits datasets\\nhttps://archive.ics.uci.edu/ml/datasets/Optical+Recognition+of+Handwritten+Digits\\n\\nThe data set contains images of hand-written digits: 10 classes where\\neach class refers to a digit.\\n\\nPreprocessing programs made available by NIST were used to extract\\nnormalized bitmaps of handwritten digits from a preprinted form. From a\\ntotal of 43 people, 30 contributed to the training set and different 13\\nto the test set. 32x32 bitmaps are divided into nonoverlapping blocks of\\n4x4 and the number of on pixels are counted in each block. This generates\\nan input matrix of 8x8 where each element is an integer in the range\\n0..16. This reduces dimensionality and gives invariance to small\\ndistortions.\\n\\nFor info on NIST preprocessing routines, see M. D. Garris, J. L. Blue, G.\\nT. Candela, D. L. Dimmick, J. Geist, P. J. Grother, S. A. Janet, and C.\\nL. Wilson, NIST Form-Based Handprint Recognition System, NISTIR 5469,\\n1994.\\n\\n.. topic:: References\\n\\n  - C. Kaynak (1995) Methods of Combining Multiple Classifiers and Their\\n    Applications to Handwritten Digit Recognition, MSc Thesis, Institute of\\n    Graduate Studies in Science and Engineering, Bogazici University.\\n  - E. Alpaydin, C. Kaynak (1998) Cascading Classifiers, Kybernetika.\\n  - Ken Tang and Ponnuthurai N. Suganthan and Xi Yao and A. Kai Qin.\\n    Linear dimensionalityreduction using relevance weighted LDA. School of\\n    Electrical and Electronic Engineering Nanyang Technological University.\\n    2005.\\n  - Claudio Gentile. A New Approximate Maximal Margin Classification\\n    Algorithm. NIPS. 2000.\"}\n"
          ]
        }
      ]
    },
    {
      "cell_type": "code",
      "metadata": {
        "colab": {
          "base_uri": "https://localhost:8080/",
          "height": 187
        },
        "id": "scbBMqXscxoN",
        "outputId": "138d955a-99ac-47d5-cd20-1dcd3e1323bf"
      },
      "source": [
        "import matplotlib.pyplot as plt\n",
        "import numpy as np\n",
        "\n",
        "\n",
        "plt.figure(figsize = (10,4))\n",
        "for index, (image, label) in enumerate(zip(mnist.data[0:5], mnist.target[0:5])):\n",
        "  plt.subplot(1, 5, index +1)\n",
        "  plt.imshow(np.reshape(image, (8,8)), cmap = plt.cm.gray)\n",
        "  plt.title('training: %i\\n' %label, fontsize =20)"
      ],
      "execution_count": null,
      "outputs": [
        {
          "output_type": "display_data",
          "data": {
            "image/png": "[encoded data removed]",
            "text/plain": [
              "<Figure size 720x288 with 5 Axes>"
            ]
          },
          "metadata": {
            "needs_background": "light"
          }
        }
      ]
    },
    {
      "cell_type": "code",
      "metadata": {
        "id": "pZ5rGJaLekkN"
      },
      "source": [
        "from sklearn.model_selection import train_test_split\n",
        "#75% for training and 25% for testing \n",
        "(trainData, testData, trainLabels, testLabels) = train_test_split(np.array(mnist.data), mnist.target, test_size = 0.25)\n",
        "#10% for validation \n",
        "(trainData, valData, trainLabels, valLabels) = train_test_split(np.array(trainData), trainLabels, test_size = 0.1)"
      ],
      "execution_count": null,
      "outputs": []
    },
    {
      "cell_type": "code",
      "metadata": {
        "colab": {
          "base_uri": "https://localhost:8080/"
        },
        "id": "6WAEa_MRhIYV",
        "outputId": "787f69ac-f91c-430b-b7cf-936c8888b139"
      },
      "source": [
        "#checking sizes of each data split\n",
        "print(\"training data points:{}\".format(len(trainLabels)))\n",
        "print(\"validation data points:{}\".format(len(valLabels)))\n",
        "print(\"test data points:{}\".format(len(testLabels)))"
      ],
      "execution_count": null,
      "outputs": [
        {
          "output_type": "stream",
          "name": "stdout",
          "text": [
            "training data points:1212\n",
            "validation data points:135\n",
            "test data points:450\n"
          ]
        }
      ]
    },
    {
      "cell_type": "markdown",
      "metadata": {
        "id": "3zBIzKr3iqNW"
      },
      "source": [
        "**Entrainement du modele et choix de la valeur k**"
      ]
    },
    {
      "cell_type": "code",
      "metadata": {
        "colab": {
          "base_uri": "https://localhost:8080/"
        },
        "id": "dMCgEN8CjpuG",
        "outputId": "0bdd8abf-f850-45c3-834f-66a3f6721590"
      },
      "source": [
        "from sklearn.neighbors import KNeighborsClassifier\n",
        "#init values of K with thw list of accuracies for each valueof k\n",
        "kVals = range(1, 10, 2)\n",
        "accuracies = []\n",
        "\n",
        "#loop over KVal\n",
        "for k in kVals:\n",
        "#train the classifier\n",
        "  model = KNeighborsClassifier(n_neighbors = k)\n",
        "  model.fit(trainData,trainLabels)\n",
        "\n",
        "  #evaluate the model\n",
        "  score = model.score(valData, valLabels)\n",
        "  print(\"k=%d, accuracy=%.2f%%\"%(k,score*100))\n",
        "  accuracies.append(score)"
      ],
      "execution_count": null,
      "outputs": [
        {
          "output_type": "stream",
          "name": "stdout",
          "text": [
            "k=1, accuracy=97.78%\n",
            "k=3, accuracy=99.26%\n",
            "k=5, accuracy=98.52%\n",
            "k=7, accuracy=97.78%\n",
            "k=9, accuracy=97.78%\n"
          ]
        }
      ]
    },
    {
      "cell_type": "code",
      "metadata": {
        "colab": {
          "base_uri": "https://localhost:8080/"
        },
        "id": "1-wsgcV-mthP",
        "outputId": "875d7f69-24c0-4746-fd0b-dda8b01a0b24"
      },
      "source": [
        "#largest accuracy\n",
        "i=np.argmax(accuracies)\n",
        "print(\"k=%d achieved highst accuracy of %.2f%% on validation data\"%(kVals[i],accuracies[i]*100))\n",
        "\n",
        "#re-train the classifier\n",
        "model=KNeighborsClassifier(n_neighbors=kVals[i])\n",
        "model.fit(trainData,trainLabels)\n",
        "\n",
        "#predict classes for the best test set\n",
        "predictions = model.predict(testData)"
      ],
      "execution_count": null,
      "outputs": [
        {
          "output_type": "stream",
          "name": "stdout",
          "text": [
            "k=3 achieved highst accuracy of 99.26% on validation data\n"
          ]
        }
      ]
    },
    {
      "cell_type": "code",
      "metadata": {
        "colab": {
          "base_uri": "https://localhost:8080/"
        },
        "id": "vrpJGgFSogPf",
        "outputId": "f3c5fc34-b34c-476e-d4d7-a6bcc2224956"
      },
      "source": [
        "from sklearn.metrics import classification_report\n",
        "print(\"EVALUATION ON TESTING DATA\")\n",
        "print(classification_report(testLabels, predictions))"
      ],
      "execution_count": null,
      "outputs": [
        {
          "output_type": "stream",
          "name": "stdout",
          "text": [
            "EVALUATION ON TESTING DATA\n",
            "              precision    recall  f1-score   support\n",
            "\n",
            "           0       1.00      1.00      1.00        44\n",
            "           1       0.95      1.00      0.98        42\n",
            "           2       1.00      1.00      1.00        47\n",
            "           3       1.00      0.98      0.99        49\n",
            "           4       1.00      0.96      0.98        47\n",
            "           5       1.00      1.00      1.00        42\n",
            "           6       1.00      1.00      1.00        39\n",
            "           7       0.98      0.98      0.98        46\n",
            "           8       1.00      0.98      0.99        53\n",
            "           9       0.95      1.00      0.98        41\n",
            "\n",
            "    accuracy                           0.99       450\n",
            "   macro avg       0.99      0.99      0.99       450\n",
            "weighted avg       0.99      0.99      0.99       450\n",
            "\n"
          ]
        }
      ]
    },
    {
      "cell_type": "markdown",
      "metadata": {
        "id": "jCAilpTauihQ"
      },
      "source": [
        "utilisation de validation croisee , Grid search de sckit-learn\n",
        "\n",
        "> Afin d'entraîner et de tester notre modèle en utilisant grid search on prendra un nouveau classificateur k-NN, notre param_grid et une valeur de validation croisée de 5 afin de trouver la valeur optimale pour 'n_neighbors'.\n"
      ]
    },
    {
      "cell_type": "code",
      "metadata": {
        "id": "OcCVatU2eiEy"
      },
      "source": [
        "#importer les bibliotheques necessaire \n",
        "import numpy as np\n",
        "from sklearn import datasets\n",
        "from sklearn.model_selection import train_test_split\n",
        "from sklearn.model_selection import GridSearchCV\n",
        "from sklearn.metrics import classification_report\n",
        "from sklearn.neighbors import KNeighborsClassifier"
      ],
      "execution_count": null,
      "outputs": []
    },
    {
      "cell_type": "code",
      "metadata": {
        "id": "my2QU0o4aS4n"
      },
      "source": [
        "#Load the MNIST digits datasets\n",
        "\n",
        "mnist = datasets.load_digits()\n",
        "#Split the data\n",
        "Data_train, Data_test, Labels_train, Labels_test = train_test_split(np.array(mnist.data), mnist.target, test_size=0.25)"
      ],
      "execution_count": null,
      "outputs": []
    },
    {
      "cell_type": "code",
      "metadata": {
        "colab": {
          "base_uri": "https://localhost:8080/"
        },
        "id": "6BczrCW2_ABb",
        "outputId": "f44d7d68-c607-4b38-e49e-a52c7d978a8d"
      },
      "source": [
        "#create a new KNN model\n",
        "model_1 = KNeighborsClassifier()\n",
        "\n",
        "#create a dictionary of all values we want to test for n_neighbors\n",
        "param_grid = {'n_neighbors': np.arange(1, 10)}\n",
        "\n",
        "#use gridsearch to test all values for n_neighbors\n",
        "model_gscv = GridSearchCV(model_1, param_grid, cv=5)\n",
        "\n",
        "#fit model to data\n",
        "model_gscv.fit(Data_train, Labels_train)"
      ],
      "execution_count": null,
      "outputs": [
        {
          "output_type": "execute_result",
          "data": {
            "text/plain": [
              "GridSearchCV(cv=5, error_score=nan,\n",
              "             estimator=KNeighborsClassifier(algorithm='auto', leaf_size=30,\n",
              "                                            metric='minkowski',\n",
              "                                            metric_params=None, n_jobs=None,\n",
              "                                            n_neighbors=5, p=2,\n",
              "                                            weights='uniform'),\n",
              "             iid='deprecated', n_jobs=None,\n",
              "             param_grid={'n_neighbors': array([1, 2, 3, 4, 5, 6, 7, 8, 9])},\n",
              "             pre_dispatch='2*n_jobs', refit=True, return_train_score=False,\n",
              "             scoring=None, verbose=0)"
            ]
          },
          "metadata": {},
          "execution_count": 27
        }
      ]
    },
    {
      "cell_type": "code",
      "metadata": {
        "colab": {
          "base_uri": "https://localhost:8080/"
        },
        "id": "5dI-ErZPWgke",
        "outputId": "5e64ae57-7773-4c1b-c932-98093c13fe34"
      },
      "source": [
        "#check top performing n_neighbors value\n",
        "model_gscv.best_params_"
      ],
      "execution_count": null,
      "outputs": [
        {
          "output_type": "execute_result",
          "data": {
            "text/plain": [
              "{'n_neighbors': 1}"
            ]
          },
          "metadata": {},
          "execution_count": 28
        }
      ]
    },
    {
      "cell_type": "markdown",
      "metadata": {
        "id": "PCpIOdBWWoc1"
      },
      "source": [
        "n_neighbors = 2\n"
      ]
    },
    {
      "cell_type": "code",
      "metadata": {
        "colab": {
          "base_uri": "https://localhost:8080/"
        },
        "id": "5HdzGRdZW23G",
        "outputId": "0c2f33d5-d1ad-43ab-e619-c7a7f78efd67"
      },
      "source": [
        "#check mean score for the top performing value of n_neighbors\n",
        "model_gscv.best_score_"
      ],
      "execution_count": null,
      "outputs": [
        {
          "output_type": "execute_result",
          "data": {
            "text/plain": [
              "0.9866336224700538"
            ]
          },
          "metadata": {},
          "execution_count": 29
        }
      ]
    },
    {
      "cell_type": "code",
      "metadata": {
        "colab": {
          "base_uri": "https://localhost:8080/"
        },
        "id": "cnCxDWZIW0nG",
        "outputId": "559559d1-9448-44f2-ec61-3897c4518207"
      },
      "source": [
        "model_gscv.best_estimator_.score(Data_test, Labels_test)"
      ],
      "execution_count": null,
      "outputs": [
        {
          "output_type": "execute_result",
          "data": {
            "text/plain": [
              "0.9866666666666667"
            ]
          },
          "metadata": {},
          "execution_count": 30
        }
      ]
    },
    {
      "cell_type": "code",
      "metadata": {
        "colab": {
          "base_uri": "https://localhost:8080/"
        },
        "id": "Vdmle2hucJJn",
        "outputId": "6674592b-adcb-4ef9-8492-97357fb3c4d8"
      },
      "source": [
        "predictions = model_gscv.predict(Data_test)\n",
        "\n",
        "print(\"EVALUATION ON TESTING DATA USING GridSearchCV\")\n",
        "print(classification_report(Labels_test, predictions))"
      ],
      "execution_count": null,
      "outputs": [
        {
          "output_type": "stream",
          "name": "stdout",
          "text": [
            "EVALUATION ON TESTING DATA USING GridSearchCV\n",
            "              precision    recall  f1-score   support\n",
            "\n",
            "           0       1.00      1.00      1.00        47\n",
            "           1       0.96      0.98      0.97        55\n",
            "           2       1.00      0.97      0.99        36\n",
            "           3       0.93      1.00      0.97        42\n",
            "           4       1.00      1.00      1.00        43\n",
            "           5       0.98      1.00      0.99        46\n",
            "           6       1.00      1.00      1.00        43\n",
            "           7       1.00      1.00      1.00        47\n",
            "           8       1.00      0.95      0.98        43\n",
            "           9       1.00      0.96      0.98        48\n",
            "\n",
            "    accuracy                           0.99       450\n",
            "   macro avg       0.99      0.99      0.99       450\n",
            "weighted avg       0.99      0.99      0.99       450\n",
            "\n"
          ]
        }
      ]
    }
  ]
}